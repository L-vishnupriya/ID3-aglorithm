{
  "nbformat": 4,
  "nbformat_minor": 0,
  "metadata": {
    "colab": {
      "provenance": []
    },
    "kernelspec": {
      "name": "python3",
      "display_name": "Python 3"
    },
    "language_info": {
      "name": "python"
    }
  },
  "cells": [
    {
      "cell_type": "markdown",
      "source": [
        "Importing Libraries :"
      ],
      "metadata": {
        "id": "oUYrvrzLiWiZ"
      }
    },
    {
      "cell_type": "code",
      "execution_count": 9,
      "metadata": {
        "id": "Ugf5_bNHaWov"
      },
      "outputs": [],
      "source": [
        "import numpy as np\n",
        "import pandas as pd\n",
        "from numpy import log2\n",
        "eps = np.finfo(float).eps\n"
      ]
    },
    {
      "cell_type": "markdown",
      "source": [
        "Define Helper Functions for Building the Decision Tree :"
      ],
      "metadata": {
        "id": "ePW4GTaqiYT0"
      }
    },
    {
      "cell_type": "code",
      "source": [
        "def find_entropy(df):\n",
        "  Class = df.keys()[-1]\n",
        "  entropy = 0\n",
        "  values = df[Class].unique()\n",
        "  for value in values:\n",
        "    fraction = df[Class].value_counts()[value]/len(df[Class])\n",
        "    entropy += -fraction * np.log2(fraction)\n",
        "  return entropy"
      ],
      "metadata": {
        "id": "oAaaoA0uaYTk"
      },
      "execution_count": 10,
      "outputs": []
    },
    {
      "cell_type": "code",
      "source": [
        "def find_entropy_attribute(df, attribute):\n",
        "    Class = df.keys()[-1]\n",
        "    target_variables = df[Class].unique()\n",
        "    variables = df[attribute].unique()\n",
        "    entropy2 = 0\n",
        "    for variable in variables:\n",
        "        entropy = 0\n",
        "        den = len(df[attribute][df[attribute] == variable])\n",
        "        for target_variable in target_variables:\n",
        "            num = len(df[attribute][df[attribute] == variable][df[Class] == target_variable])\n",
        "            fraction = num / (den + eps)\n",
        "            entropy += -fraction * np.log2(fraction + eps)\n",
        "        fraction2 = den / len(df)\n",
        "        entropy2 += fraction2 * entropy\n",
        "    return abs(entropy2)"
      ],
      "metadata": {
        "id": "KgaienReaYmL"
      },
      "execution_count": 11,
      "outputs": []
    },
    {
      "cell_type": "code",
      "source": [
        "def find_winner(df):\n",
        "  Entropy_att = []\n",
        "  IG = []\n",
        "  for key in df.keys()[:-1]:\n",
        "    Entropy_att.append(find_entropy_attribute(df,key))\n",
        "    IG.append(find_entropy(df) - find_entropy_attribute(df,key))\n",
        "  return df.keys()[:-1][np.argmax(IG)]\n",
        "\n",
        "\n",
        "def get_suitable(df, node, value):\n",
        "  return df[df[node] == value].reset_index(drop = True)\n",
        "\n",
        ""
      ],
      "metadata": {
        "id": "Cq6aa_qMaY32"
      },
      "execution_count": 12,
      "outputs": []
    },
    {
      "cell_type": "markdown",
      "source": [
        "Building the Decision Tree :"
      ],
      "metadata": {
        "id": "YOG6kiSlirHJ"
      }
    },
    {
      "cell_type": "code",
      "source": [
        "def build_Tree(df, tree = None):\n",
        "  Class = df.keys()[-1]\n",
        "  node = find_winner(df)\n",
        "  attValue = np.unique(df[node])\n",
        "  if tree is None:\n",
        "    tree = {}\n",
        "    tree[node] = {}\n",
        "    for value in attValue:\n",
        "      subtable = get_suitable(df, node, value)\n",
        "      clValue, counts = np.unique(subtable['play'], return_counts = True)\n",
        "      if len(counts) ==1:\n",
        "        tree[node][value] = clValue[0]\n",
        "      else:\n",
        "        tree[node][value] = build_Tree(subtable)\n",
        "  return tree"
      ],
      "metadata": {
        "id": "uJ3lq8oSaogK"
      },
      "execution_count": 14,
      "outputs": []
    },
    {
      "cell_type": "markdown",
      "source": [
        "Loading and Printing the Dataset :"
      ],
      "metadata": {
        "id": "vG904G0eixtt"
      }
    },
    {
      "cell_type": "code",
      "source": [
        "df = pd.read_csv('/content/tennis_data.csv')\n",
        "print(\"\\n Given Play Tennis Data Set: \\n\\n \",df)\n",
        "tree = build_Tree(df)\n",
        "import pprint\n",
        "pprint.pprint(tree)"
      ],
      "metadata": {
        "colab": {
          "base_uri": "https://localhost:8080/"
        },
        "id": "6iUIVTGBasvO",
        "outputId": "c94f446e-7a83-4e6b-ab44-24e367688992"
      },
      "execution_count": 15,
      "outputs": [
        {
          "output_type": "stream",
          "name": "stdout",
          "text": [
            "\n",
            " Given Play Tennis Data Set: \n",
            "\n",
            "       Outlook Temperature Humidity    Wind play\n",
            "0      Sunny         Hot     High    Weak   No\n",
            "1      Sunny         Hot     High  Strong   No\n",
            "2   Overcast         Hot     High    Weak  Yes\n",
            "3       Rain        Mild     High    Weak  Yes\n",
            "4       Rain        Cool   Normal    Weak  Yes\n",
            "5       Rain        Cool   Normal  Strong   No\n",
            "6   Overcast        Cool   Normal  Strong  Yes\n",
            "7      Sunny        Mild     High    Weak   No\n",
            "8      Sunny        Cool   Normal    Weak  Yes\n",
            "9       Rain        Mild   Normal    Weak  Yes\n",
            "10     Sunny        Mild   Normal  Strong  Yes\n",
            "11  Overcast        Mild     High  Strong  Yes\n",
            "12  Overcast         Hot   Normal    Weak  Yes\n",
            "13      Rain        Mild     High  Strong   No\n",
            "{'Outlook': {'Overcast': 'Yes',\n",
            "             'Rain': {'Wind': {'Strong': 'No', 'Weak': 'Yes'}},\n",
            "             'Sunny': {'Humidity': {'High': 'No', 'Normal': 'Yes'}}}}\n"
          ]
        }
      ]
    },
    {
      "cell_type": "markdown",
      "source": [
        "Visualizing the Decision Tree :"
      ],
      "metadata": {
        "id": "HjDtFdR-izr2"
      }
    },
    {
      "cell_type": "code",
      "source": [
        "import graphviz\n",
        "\n",
        "\n",
        "def visualize_tree(tree, parent=None, graph=None):\n",
        "    if graph is None:\n",
        "        graph = graphviz.Digraph(node_attr={'shape': 'ellipse'})  # Default shape for nodes\n",
        "\n",
        "    for node, children in tree.items():\n",
        "        if isinstance(children, dict):\n",
        "            # Node is a decision point\n",
        "            if parent is not None:\n",
        "                if parent != 'Overcast':  # Avoid adding edge for specific case\n",
        "                    graph.edge(parent, node)\n",
        "            visualize_tree(children, node, graph)\n",
        "        else:\n",
        "            # Node is a leaf node (final decision)\n",
        "            if parent is not None:\n",
        "                if parent != 'Overcast':\n",
        "                    graph.node(parent, label=parent, shape='ellipse', style='filled', fillcolor='lightblue')  # Decision node shape and color\n",
        "                graph.node(node, label=children, shape='box', style='filled', fillcolor='lightcoral')  # Leaf node shape and color\n",
        "                graph.edge(parent, node, label=node)\n",
        "            else:\n",
        "                graph.node(node, label=children, shape='ellipse', style='filled', fillcolor='lightcoral')  # Leaf node shape and color for root\n",
        "\n",
        "    return graph\n",
        "\n",
        "\n",
        "\n",
        "# Example decision tree\n",
        "example_tree = {\n",
        "    'Outlook': {\n",
        "        'Sunny': {\n",
        "            'Humidity': {\n",
        "                'High': 'Decision: No',\n",
        "                'Normal': 'Decision: Yes'\n",
        "            }\n",
        "        },\n",
        "        'Overcast': 'Decision: Yes',  # Overcast leads to Decision: Yes\n",
        "        'Rainy': {\n",
        "            'Wind': {\n",
        "                'Weak': 'Decision: Yes',\n",
        "                'Strong': 'Decision: No'\n",
        "            }\n",
        "        }\n",
        "    }\n",
        "}\n",
        "\n",
        "# Visualize the decision tree\n",
        "graph = visualize_tree(example_tree)\n",
        "\n",
        "# Render the decision tree to a PNG file\n",
        "graph.render('decision_tree', format='png', cleanup=True)"
      ],
      "metadata": {
        "colab": {
          "base_uri": "https://localhost:8080/",
          "height": 36
        },
        "id": "i4p-h0xIa4gw",
        "outputId": "81df2215-3edb-4250-8a11-de5d60b46914"
      },
      "execution_count": 18,
      "outputs": [
        {
          "output_type": "execute_result",
          "data": {
            "text/plain": [
              "'decision_tree.png'"
            ],
            "application/vnd.google.colaboratory.intrinsic+json": {
              "type": "string"
            }
          },
          "metadata": {},
          "execution_count": 18
        }
      ]
    },
    {
      "cell_type": "code",
      "source": [
        "from IPython.display import Image\n",
        "Image(filename = '/content/decision_tree.png')"
      ],
      "metadata": {
        "colab": {
          "base_uri": "https://localhost:8080/",
          "height": 405
        },
        "id": "pDthTmaTa6jW",
        "outputId": "91cc6d5a-9270-4024-bc22-8e5a88e83519"
      },
      "execution_count": 19,
      "outputs": [
        {
          "output_type": "execute_result",
          "data": {
            "image/png": "[encoded data removed]",
            "text/plain": [
              "<IPython.core.display.Image object>"
            ]
          },
          "metadata": {},
          "execution_count": 19
        }
      ]
    }
  ]
}